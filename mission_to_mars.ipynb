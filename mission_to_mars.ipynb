{
 "cells": [
  {
   "cell_type": "code",
   "execution_count": 1,
   "metadata": {},
   "outputs": [],
   "source": [
    "from splinter import Browser\n",
    "from bs4 import BeautifulSoup"
   ]
  },
  {
   "cell_type": "code",
   "execution_count": 2,
   "metadata": {},
   "outputs": [],
   "source": [
    "executable_path = {'executable_path': 'chromedriver.exe'}\n",
    "browser = Browser('chrome', **executable_path, headless=False)"
   ]
  },
  {
   "cell_type": "code",
   "execution_count": 4,
   "metadata": {},
   "outputs": [],
   "source": [
    "#setting my url in a variable\n",
    "url = 'https://mars.nasa.gov/news/?page=0&per_page=40&order=publish_date+desc%2Ccreated_at+desc&search=&category=19%2C165%2C184%2C204&blank_scope=Latest'"
   ]
  },
  {
   "cell_type": "code",
   "execution_count": 5,
   "metadata": {},
   "outputs": [],
   "source": [
    "#launching my browser using the chromedriver extension \n",
    "browser.visit(url)"
   ]
  },
  {
   "cell_type": "code",
   "execution_count": 6,
   "metadata": {},
   "outputs": [],
   "source": [
    "# setting my html and reading it with beautiful soup \n",
    "html = browser.html\n",
    "soup = BeautifulSoup(html, 'html.parser')"
   ]
  },
  {
   "cell_type": "code",
   "execution_count": 17,
   "metadata": {},
   "outputs": [],
   "source": [
    "#filtering my results down to the titles  based on the HTML class identified \n",
    "results = soup.body.find_all('div', class_='content_title')\n",
    "news_titles = []\n",
    "#looping through my results \n",
    "for result in results:\n",
    "    try:\n",
    "        #geting the text out of my result  \n",
    "        title = result.text\n",
    "        #print(title)\n",
    "        news_titles.append(title)\n",
    "    except AttributeError as e:\n",
    "        print(e)"
   ]
  },
  {
   "cell_type": "code",
   "execution_count": 18,
   "metadata": {},
   "outputs": [],
   "source": [
    "#filtering my results down to the paragraphs  based on the HTML class identified \n",
    "results = soup.find_all('div', class_=\"article_teaser_body\")\n",
    "news_paragraphs = []\n",
    "for result in results:\n",
    "    try:\n",
    "        #retriving the text for parragraphs\n",
    "        paragraphs = result.text\n",
    "        #print(paragraphs)\n",
    "        news_paragraphs.append(paragraphs)\n",
    "    except AttributeError as e:\n",
    "        print(e)"
   ]
  },
  {
   "cell_type": "code",
   "execution_count": 19,
   "metadata": {},
   "outputs": [
    {
     "name": "stdout",
     "output_type": "stream",
     "text": [
      "The latest news title is \"Mars Helicopter Attached to NASA's Perseverance Rover\"\n",
      "The latest news paragrapgh is \"The team also fueled the rover's sky crane to get ready for this summer's history-making launch.\"\n"
     ]
    }
   ],
   "source": [
    "#printing the latest news from my url\n",
    "print(f'The latest news title is \"{news_titles[1]}\"')\n",
    "print(f'The latest news paragrapgh is \"{news_paragraphs[0]}\"')"
   ]
  },
  {
   "cell_type": "code",
   "execution_count": null,
   "metadata": {},
   "outputs": [],
   "source": []
  },
  {
   "cell_type": "code",
   "execution_count": null,
   "metadata": {},
   "outputs": [],
   "source": []
  }
 ],
 "metadata": {
  "kernelspec": {
   "display_name": "Python [conda env:Pythondata]",
   "language": "python",
   "name": "conda-env-Pythondata-py"
  },
  "language_info": {
   "codemirror_mode": {
    "name": "ipython",
    "version": 3
   },
   "file_extension": ".py",
   "mimetype": "text/x-python",
   "name": "python",
   "nbconvert_exporter": "python",
   "pygments_lexer": "ipython3",
   "version": "3.6.10"
  }
 },
 "nbformat": 4,
 "nbformat_minor": 4
}
